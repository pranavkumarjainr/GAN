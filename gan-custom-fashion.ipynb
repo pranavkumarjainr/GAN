{
 "cells": [
  {
   "cell_type": "code",
   "execution_count": 10,
   "metadata": {
    "_cell_guid": "b1076dfc-b9ad-4769-8c92-a6c4dae69d19",
    "_uuid": "8f2839f25d086af736a60e9eeb907d3b93b6e0e5",
    "execution": {
     "iopub.execute_input": "2023-04-23T12:11:28.455757Z",
     "iopub.status.busy": "2023-04-23T12:11:28.455330Z",
     "iopub.status.idle": "2023-04-23T12:11:28.461870Z",
     "shell.execute_reply": "2023-04-23T12:11:28.460499Z",
     "shell.execute_reply.started": "2023-04-23T12:11:28.455718Z"
    }
   },
   "outputs": [],
   "source": [
    "import numpy as np\n",
    "import tensorflow as tf\n",
    "from tensorflow.keras import layers"
   ]
  },
  {
   "cell_type": "code",
   "execution_count": 11,
   "metadata": {
    "execution": {
     "iopub.execute_input": "2023-04-23T12:11:28.470088Z",
     "iopub.status.busy": "2023-04-23T12:11:28.469224Z",
     "iopub.status.idle": "2023-04-23T12:11:28.479909Z",
     "shell.execute_reply": "2023-04-23T12:11:28.478379Z",
     "shell.execute_reply.started": "2023-04-23T12:11:28.469982Z"
    }
   },
   "outputs": [],
   "source": [
    "# define generator model\n",
    "def make_generator_model():\n",
    "    model = tf.keras.Sequential()\n",
    "    model.add(layers.Dense(256, input_shape=(100,), use_bias=False))\n",
    "    model.add(layers.BatchNormalization())\n",
    "    model.add(layers.LeakyReLU())\n",
    "\n",
    "    model.add(layers.Dense(512, use_bias=False))\n",
    "    model.add(layers.BatchNormalization())\n",
    "    model.add(layers.LeakyReLU())\n",
    "\n",
    "    model.add(layers.Dense(28*28*1, use_bias=False, activation='tanh'))\n",
    "    model.add(layers.Reshape((28, 28, 1)))\n",
    "\n",
    "    return model"
   ]
  },
  {
   "cell_type": "code",
   "execution_count": 12,
   "metadata": {
    "execution": {
     "iopub.execute_input": "2023-04-23T12:11:28.482618Z",
     "iopub.status.busy": "2023-04-23T12:11:28.482034Z",
     "iopub.status.idle": "2023-04-23T12:11:28.491908Z",
     "shell.execute_reply": "2023-04-23T12:11:28.490577Z",
     "shell.execute_reply.started": "2023-04-23T12:11:28.482574Z"
    }
   },
   "outputs": [],
   "source": [
    "# define discriminator model\n",
    "def make_discriminator_model():\n",
    "    model = tf.keras.Sequential()\n",
    "    model.add(layers.Flatten(input_shape=(28, 28, 1)))\n",
    "    model.add(layers.Dense(512))\n",
    "    model.add(layers.LeakyReLU())\n",
    "    model.add(layers.Dropout(0.3))\n",
    "\n",
    "    model.add(layers.Dense(256))\n",
    "    model.add(layers.LeakyReLU())\n",
    "    model.add(layers.Dropout(0.3))\n",
    "\n",
    "    model.add(layers.Dense(1))\n",
    "\n",
    "    return model"
   ]
  },
  {
   "cell_type": "code",
   "execution_count": 13,
   "metadata": {
    "execution": {
     "iopub.execute_input": "2023-04-23T12:11:28.498284Z",
     "iopub.status.busy": "2023-04-23T12:11:28.497811Z",
     "iopub.status.idle": "2023-04-23T12:11:28.655206Z",
     "shell.execute_reply": "2023-04-23T12:11:28.653767Z",
     "shell.execute_reply.started": "2023-04-23T12:11:28.498243Z"
    }
   },
   "outputs": [],
   "source": [
    "# define generator and discriminator models\n",
    "generator = make_generator_model()\n",
    "discriminator = make_discriminator_model()"
   ]
  },
  {
   "cell_type": "code",
   "execution_count": 14,
   "metadata": {
    "execution": {
     "iopub.execute_input": "2023-04-23T12:11:28.657716Z",
     "iopub.status.busy": "2023-04-23T12:11:28.657365Z",
     "iopub.status.idle": "2023-04-23T12:11:28.668019Z",
     "shell.execute_reply": "2023-04-23T12:11:28.666345Z",
     "shell.execute_reply.started": "2023-04-23T12:11:28.657683Z"
    }
   },
   "outputs": [],
   "source": [
    "# define loss functions\n",
    "#cross_entropy = tf.keras.losses.BinaryCrossentropy(from_logits=True)\n",
    "\n",
    "def cross_entropy(y_true, y_pred_logits, from_logits=True):\n",
    "    if from_logits:\n",
    "        y_pred = tf.sigmoid(y_pred_logits)\n",
    "    else:\n",
    "        y_pred = y_pred_logits\n",
    "    \n",
    "    # Clip values to avoid log(0) error\n",
    "    y_pred = tf.clip_by_value(y_pred, 1e-7, 1 - 1e-7)\n",
    "    \n",
    "    # Calculate binary crossentropy\n",
    "    bce = -tf.reduce_mean(y_true * tf.math.log(tf.reduce_mean(y_pred)) + (1 - y_true) * tf.math.log(tf.reduce_mean(1 - y_pred)))\n",
    "    \n",
    "    return bce\n",
    "\n",
    "def discriminator_loss(real_output, fake_output):\n",
    "    real_loss = cross_entropy(tf.ones_like(real_output), real_output)\n",
    "    fake_loss = cross_entropy(tf.zeros_like(fake_output), fake_output)\n",
    "    total_loss = real_loss + fake_loss\n",
    "    return total_loss\n",
    "\n",
    "def generator_loss(fake_output):\n",
    "    return cross_entropy(tf.ones_like(fake_output), fake_output)"
   ]
  },
  {
   "cell_type": "code",
   "execution_count": 15,
   "metadata": {
    "execution": {
     "iopub.execute_input": "2023-04-23T12:11:28.670308Z",
     "iopub.status.busy": "2023-04-23T12:11:28.669702Z",
     "iopub.status.idle": "2023-04-23T12:11:28.682424Z",
     "shell.execute_reply": "2023-04-23T12:11:28.681140Z",
     "shell.execute_reply.started": "2023-04-23T12:11:28.670268Z"
    }
   },
   "outputs": [],
   "source": [
    "# define optimizers\n",
    "generator_optimizer = tf.keras.optimizers.Adam(1e-4)\n",
    "discriminator_optimizer = tf.keras.optimizers.Adam(1e-4)"
   ]
  },
  {
   "cell_type": "code",
   "execution_count": 16,
   "metadata": {
    "execution": {
     "iopub.execute_input": "2023-04-23T12:11:28.685207Z",
     "iopub.status.busy": "2023-04-23T12:11:28.684775Z",
     "iopub.status.idle": "2023-04-23T12:11:28.751592Z",
     "shell.execute_reply": "2023-04-23T12:11:28.750259Z",
     "shell.execute_reply.started": "2023-04-23T12:11:28.685166Z"
    }
   },
   "outputs": [],
   "source": [
    "# define training loop\n",
    "@tf.function\n",
    "def train_step(images):\n",
    "    noise = tf.random.normal([batch_size, 100])\n",
    "\n",
    "    with tf.GradientTape() as gen_tape, tf.GradientTape() as disc_tape:\n",
    "        generated_images = generator(noise, training=True)\n",
    "\n",
    "        real_output = discriminator(images, training=True)\n",
    "        fake_output = discriminator(generated_images, training=True)\n",
    "\n",
    "        gen_loss = generator_loss(fake_output)\n",
    "        disc_loss = discriminator_loss(real_output, fake_output)\n",
    "\n",
    "    gradients_of_generator = gen_tape.gradient(gen_loss, generator.trainable_variables)\n",
    "    gradients_of_discriminator = disc_tape.gradient(disc_loss, discriminator.trainable_variables)\n",
    "\n",
    "    generator_optimizer.apply_gradients(zip(gradients_of_generator, generator.trainable_variables))\n",
    "    discriminator_optimizer.apply_gradients(zip(gradients_of_discriminator, discriminator.trainable_variables))"
   ]
  },
  {
   "cell_type": "code",
   "execution_count": 17,
   "metadata": {
    "execution": {
     "iopub.execute_input": "2023-04-23T12:11:28.753486Z",
     "iopub.status.busy": "2023-04-23T12:11:28.752969Z",
     "iopub.status.idle": "2023-04-23T12:11:29.571176Z",
     "shell.execute_reply": "2023-04-23T12:11:29.569702Z",
     "shell.execute_reply.started": "2023-04-23T12:11:28.753432Z"
    }
   },
   "outputs": [],
   "source": [
    "# prepare dataset\n",
    "(train_images, _), (_, _) = tf.keras.datasets.fashion_mnist.load_data()\n",
    "train_images = train_images.reshape(train_images.shape[0], 28, 28, 1).astype('float32')\n",
    "train_images = (train_images - 127.5) / 127.5  # Normalize the images to [-1, 1]\n",
    "batch_size = 256\n",
    "train_dataset = tf.data.Dataset.from_tensor_slices(train_images).shuffle(60000).batch(batch_size)"
   ]
  },
  {
   "cell_type": "code",
   "execution_count": 18,
   "metadata": {
    "execution": {
     "iopub.execute_input": "2023-04-23T12:11:29.573894Z",
     "iopub.status.busy": "2023-04-23T12:11:29.572864Z",
     "iopub.status.idle": "2023-04-23T12:14:23.996235Z",
     "shell.execute_reply": "2023-04-23T12:14:23.995244Z",
     "shell.execute_reply.started": "2023-04-23T12:11:29.573831Z"
    }
   },
   "outputs": [
    {
     "name": "stdout",
     "output_type": "stream",
     "text": [
      "Epoch: 1, Generator Loss: 1.8221484422683716, Discriminator Loss: 0.19364988803863525\n",
      "Epoch: 2, Generator Loss: 1.979777216911316, Discriminator Loss: 0.1817137598991394\n",
      "Epoch: 3, Generator Loss: 2.4828176498413086, Discriminator Loss: 0.11585566401481628\n",
      "Epoch: 4, Generator Loss: 2.6926114559173584, Discriminator Loss: 0.10206776857376099\n",
      "Epoch: 5, Generator Loss: 1.8112430572509766, Discriminator Loss: 0.202473983168602\n",
      "Epoch: 6, Generator Loss: 1.8614026308059692, Discriminator Loss: 0.221042200922966\n",
      "Epoch: 7, Generator Loss: 2.5821361541748047, Discriminator Loss: 0.12662768363952637\n",
      "Epoch: 8, Generator Loss: 2.8797495365142822, Discriminator Loss: 0.09308136999607086\n",
      "Epoch: 9, Generator Loss: 2.1926252841949463, Discriminator Loss: 0.12632963061332703\n",
      "Epoch: 10, Generator Loss: 2.619027853012085, Discriminator Loss: 0.08763390779495239\n"
     ]
    }
   ],
   "source": [
    "# train the GAN\n",
    "epochs = 10\n",
    "for epoch in range(epochs):\n",
    "    for batch in train_dataset:\n",
    "        train_step(batch)\n",
    "        \n",
    "        # print the losses every 10 epochs\n",
    "        noise = tf.random.normal([batch_size, 100])\n",
    "\n",
    "        generated_images = generator(noise, training=False)\n",
    "\n",
    "        real_output = discriminator(batch, training=False)\n",
    "        fake_output = discriminator(generated_images, training=False)\n",
    "\n",
    "        gen_loss = generator_loss(fake_output)\n",
    "        disc_loss = discriminator_loss(real_output, fake_output)\n",
    "\n",
    "    print(f\"Epoch: {epoch+1}, Generator Loss: {gen_loss}, Discriminator Loss: {disc_loss}\")"
   ]
  }
 ],
 "metadata": {
  "kernelspec": {
   "display_name": "Python 3 (ipykernel)",
   "language": "python",
   "name": "python3"
  },
  "language_info": {
   "codemirror_mode": {
    "name": "ipython",
    "version": 3
   },
   "file_extension": ".py",
   "mimetype": "text/x-python",
   "name": "python",
   "nbconvert_exporter": "python",
   "pygments_lexer": "ipython3",
   "version": "3.10.11"
  }
 },
 "nbformat": 4,
 "nbformat_minor": 4
}
