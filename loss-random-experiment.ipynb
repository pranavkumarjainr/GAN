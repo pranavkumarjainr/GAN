{
 "cells": [
  {
   "cell_type": "code",
   "execution_count": null,
   "metadata": {
    "colab": {
     "base_uri": "https://localhost:8080/"
    },
    "id": "qIfgjcUixuuo",
    "outputId": "6f5eec5c-f5d0-4a14-e1f9-82954222060b"
   },
   "outputs": [
    {
     "name": "stdout",
     "output_type": "stream",
     "text": [
      "0.9685899721963026\n",
      "0.9656639185113989\n",
      "0.9481228974206019\n",
      "0.9273527249538035\n",
      "1.0552386940639578\n",
      "1.0566528626900193\n",
      "0.9953183806134112\n",
      "1.0559293849510625\n",
      "0.963893391827318\n",
      "0.9806532758597372\n",
      "1.0110623026580419\n",
      "1.0067218541255265\n",
      "1.019275130489912\n",
      "0.974357285278464\n",
      "0.9472811240257585\n",
      "1.0163316717276223\n",
      "0.9659338615677103\n",
      "1.0144508053174845\n",
      "1.0043163898370364\n",
      "0.9578873985585364\n"
     ]
    }
   ],
   "source": [
    "from random import uniform\n",
    "from math import log\n",
    "\n",
    "\n",
    "for i in range(20):                          # Run for 20 times\n",
    "    values_list = []                         # List to store all random values for each iteration\n",
    "    value_sum = 0                            # Sum all 20 of the random values\n",
    "    \n",
    "    for j in range(20):                      # Run 20 times to get 20 numbers\n",
    "        value = uniform(0.1, 0.9)            # Get a random value from 0.1 to 0.9\n",
    "        values_list.append(value)            # Append random value into a list if needed, we can print it\n",
    "        value_sum += value                   # Sum of the Values\n",
    "\n",
    "    log_value = log(value_sum, 10)           # Log (sum of all values)\n",
    "    #print(value_sum)                        # Print sum of 20 random numbers\n",
    "    print(log_value)                         # Print the log value\n",
    "    #print(values_list)                       # Print list of values"
   ]
  },
  {
   "cell_type": "code",
   "execution_count": null,
   "metadata": {
    "colab": {
     "base_uri": "https://localhost:8080/"
    },
    "id": "HQJDn4cSyZmY",
    "outputId": "7c7e7711-7eba-4830-d2b9-0d3144ebb304"
   },
   "outputs": [
    {
     "name": "stdout",
     "output_type": "stream",
     "text": [
      "-7.118058449262371\n",
      "-4.806003350476689\n",
      "-6.7513377352764845\n",
      "-7.223832286033135\n",
      "-6.548977379825275\n",
      "-6.382756986022174\n",
      "-7.596732646225236\n",
      "-5.733368359461696\n",
      "-7.309398920597554\n",
      "-7.746447762892494\n",
      "-8.40569834217569\n",
      "-6.66657117346385\n",
      "-8.869712323382641\n",
      "-7.269369456793131\n",
      "-7.558068591667499\n",
      "-8.440320598328807\n",
      "-7.827051498606993\n",
      "-7.854021457805783\n",
      "-6.043629415873934\n",
      "-7.6706628505528744\n"
     ]
    }
   ],
   "source": [
    "from random import uniform\n",
    "from math import log\n",
    "\n",
    "for i in range(20):                          # Run for 20 times\n",
    "    values_list = []                         # List to store all random values for each iteration\n",
    "    log_sum = 0                              # Sum all 20 of the logs of random values\n",
    "    \n",
    "    for j in range(20):                      # Run 20 times to get 20 numbers\n",
    "        value = uniform(0.1, 0.9)            # Get a random value from 0.1 to 0.9\n",
    "        values_list.append(value)            # Append random value into a list if needed, we can print it\n",
    "        log_sum += log(value, 10)            # Sum (Log (single value))\n",
    "    print(log_sum)                           # Print the log value\n",
    "    #print(values_list)                       # Print list of values "
   ]
  },
  {
   "cell_type": "markdown",
   "metadata": {
    "id": "XNFlVQLz4SQw"
   },
   "source": [
    "\n",
    "### First code: min_log_value = 0.301, max_log_value=1.255\n",
    "\n",
    "### Second code: min_log_sum = -19.999, max_log_sum = -0.915\n"
   ]
  },
  {
   "cell_type": "code",
   "execution_count": null,
   "metadata": {
    "colab": {
     "base_uri": "https://localhost:8080/"
    },
    "id": "RyIApvGmMgid",
    "outputId": "a4a830ff-a620-4810-d823-d1d3aa4c650c"
   },
   "outputs": [
    {
     "name": "stdout",
     "output_type": "stream",
     "text": [
      "2.0299097432642403\n",
      "2.0302850688364305\n",
      "2.0219021090309033\n",
      "2.090465775042912\n",
      "2.0489477499255404\n",
      "2.0396438061815365\n",
      "1.9975197281782466\n",
      "2.026251144522983\n",
      "1.977072627580855\n",
      "1.9745973357103501\n",
      "2.114621199950183\n",
      "1.9944426112138414\n",
      "2.0460458560449943\n",
      "2.012376892984425\n",
      "2.065398728498137\n",
      "2.0738610776978543\n",
      "2.035468649377817\n",
      "1.9982433896431882\n",
      "2.0162809268104076\n",
      "2.0699624287456713\n"
     ]
    }
   ],
   "source": [
    "from random import uniform\n",
    "from math import log\n",
    "\n",
    "\n",
    "for i in range(20):                          # Run for 20 times\n",
    "    values_list = []                         # List to store all random values for each iteration\n",
    "    value_sum = 0                            # Sum all 20 of the random values\n",
    "    \n",
    "    for j in range(20):                      # Run 20 times to get 20 numbers\n",
    "        value = uniform(1, 10)            # Get a random value from 0.1 to 0.9\n",
    "        values_list.append(value)            # Append random value into a list if needed, we can print it\n",
    "        value_sum += value                   # Sum of the Values\n",
    "\n",
    "    log_value = log(value_sum, 10)           # Log (sum of all values)\n",
    "    #print(value_sum)                        # Print sum of 20 random numbers\n",
    "    print(log_value)                         # Print the log value\n",
    "    #print(values_list)    "
   ]
  },
  {
   "cell_type": "code",
   "execution_count": null,
   "metadata": {
    "colab": {
     "base_uri": "https://localhost:8080/"
    },
    "id": "Ift9cbsnMk_V",
    "outputId": "18092841-f661-4931-e0d2-659e0adf575d"
   },
   "outputs": [
    {
     "name": "stdout",
     "output_type": "stream",
     "text": [
      "11.770913173633105\n",
      "10.933065259606401\n",
      "13.267474991132579\n",
      "14.129063852074719\n",
      "14.20442937639805\n",
      "14.776345748552831\n",
      "13.771927627259315\n",
      "12.988723798913991\n",
      "14.18625347498195\n",
      "15.350202729800055\n",
      "13.29911042229871\n",
      "14.82164258462198\n",
      "13.947537960055389\n",
      "14.39359623687178\n",
      "13.494044170863209\n",
      "12.468573467976423\n",
      "13.340325577692404\n",
      "12.460691058236215\n",
      "13.18541375912223\n",
      "14.046689597015837\n"
     ]
    }
   ],
   "source": [
    "from random import uniform\n",
    "from math import log\n",
    "\n",
    "for i in range(20):                          # Run for 20 times\n",
    "    values_list = []                         # List to store all random values for each iteration\n",
    "    log_sum = 0                              # Sum all 20 of the logs of random values\n",
    "    \n",
    "    for j in range(20):                      # Run 20 times to get 20 numbers\n",
    "        value = uniform(1, 10)            # Get a random value from 0.1 to 0.9\n",
    "        values_list.append(value)            # Append random value into a list if needed, we can print it\n",
    "        log_sum += log(value, 10)            # Sum (Log (single value))\n",
    "    print(log_sum)                           # Print the log value\n",
    "    #print(values_list)                       # Print list of values "
   ]
  },
  {
   "cell_type": "code",
   "execution_count": 1,
   "metadata": {
    "colab": {
     "base_uri": "https://localhost:8080/"
    },
    "execution": {
     "iopub.execute_input": "2023-04-23T12:45:08.180830Z",
     "iopub.status.busy": "2023-04-23T12:45:08.180555Z",
     "iopub.status.idle": "2023-04-23T12:45:08.188245Z",
     "shell.execute_reply": "2023-04-23T12:45:08.186896Z",
     "shell.execute_reply.started": "2023-04-23T12:45:08.180804Z"
    },
    "id": "uzo-tFD34dlb",
    "outputId": "16bb6121-1e82-44ef-87dd-39c8ab9cb12b"
   },
   "outputs": [
    {
     "name": "stdout",
     "output_type": "stream",
     "text": [
      "c_g: 0.47605354, g: 0.48014158,     c_d: 1.423775, d: 1.4388671\n",
      "c_g: 0.46641475, g: 0.46989888,     c_d: 1.4695364, d: 1.4824972\n",
      "c_g: 0.44316053, g: 0.44758463,     c_d: 1.5001731, d: 1.5172954\n",
      "c_g: 0.46721858, g: 0.47038588,     c_d: 1.452646, d: 1.4661112\n",
      "c_g: 0.47190255, g: 0.47508684,     c_d: 1.4715104, d: 1.4852653\n",
      "c_g: 0.47742978, g: 0.4816019,     c_d: 1.4132953, d: 1.4286187\n",
      "c_g: 0.47946566, g: 0.48309296,     c_d: 1.4148226, d: 1.4271011\n",
      "c_g: 0.4794239, g: 0.4832465,     c_d: 1.4204094, d: 1.433356\n",
      "c_g: 0.4484225, g: 0.4521885,     c_d: 1.4688555, d: 1.4829509\n",
      "c_g: 0.45621675, g: 0.4600703,     c_d: 1.4880352, d: 1.5025916\n",
      "c_g: 0.4900574, g: 0.49480563,     c_d: 1.41315, d: 1.4280282\n",
      "c_g: 0.4940247, g: 0.49791962,     c_d: 1.4467053, d: 1.4597867\n",
      "c_g: 0.48062253, g: 0.4855589,     c_d: 1.443294, d: 1.4595201\n",
      "c_g: 0.4716774, g: 0.47487798,     c_d: 1.4667822, d: 1.4791462\n",
      "c_g: 0.5242839, g: 0.52723515,     c_d: 1.3795762, d: 1.388637\n",
      "c_g: 0.4829732, g: 0.4868014,     c_d: 1.4186764, d: 1.4325789\n",
      "c_g: 0.48140922, g: 0.48556727,     c_d: 1.4586987, d: 1.4732345\n",
      "c_g: 0.45994034, g: 0.4640301,     c_d: 1.5003998, d: 1.5147833\n",
      "c_g: 0.46530992, g: 0.4684538,     c_d: 1.5040463, d: 1.5167274\n",
      "c_g: 0.4786578, g: 0.48175654,     c_d: 1.4457536, d: 1.4572407\n"
     ]
    }
   ],
   "source": [
    "from random import uniform\n",
    "from math import log\n",
    "from statistics import mean\n",
    "import tensorflow as tf\n",
    "\n",
    "def loss(y_true, y_pred_logits, from_logits=True):\n",
    "    if from_logits:\n",
    "        y_pred = tf.sigmoid(y_pred_logits)\n",
    "    else:\n",
    "        y_pred = y_pred_logits\n",
    "    \n",
    "    # Clip values to avoid log(0) error\n",
    "    y_pred = tf.clip_by_value(y_pred, 1e-7, 1 - 1e-7)\n",
    "    \n",
    "    # Calculate loss\n",
    "    bce = -tf.reduce_mean(y_true * tf.math.log(y_pred) + (1 - y_true) * tf.math.log(1 - y_pred))\n",
    "    \n",
    "    return bce\n",
    "\n",
    "def discriminator_loss(real_output, fake_output):\n",
    "    real_loss = loss(tf.ones_like(real_output), real_output)\n",
    "    fake_loss = loss(tf.zeros_like(fake_output), fake_output)\n",
    "    total_loss = real_loss + fake_loss\n",
    "    return total_loss\n",
    "\n",
    "def generator_loss(fake_output):\n",
    "    return loss(tf.ones_like(fake_output), fake_output)\n",
    "\n",
    "def custom_loss(y_true, y_pred_logits, from_logits=True):\n",
    "    if from_logits:\n",
    "        y_pred = tf.sigmoid(y_pred_logits)\n",
    "    else:\n",
    "        y_pred = y_pred_logits\n",
    "    \n",
    "    # Clip values to avoid log(0) error\n",
    "    y_pred = tf.clip_by_value(y_pred, 1e-7, 1 - 1e-7)\n",
    "    \n",
    "    # Calculate loss\n",
    "    bce = -tf.reduce_mean(y_true * tf.math.log(tf.reduce_mean(y_pred)) + (1 - y_true) * tf.math.log(tf.reduce_mean(1 - y_pred)))\n",
    "    \n",
    "    return bce\n",
    "\n",
    "def custom_discriminator_loss(real_output, fake_output):\n",
    "    real_loss = custom_loss(tf.ones_like(real_output), real_output)\n",
    "    fake_loss = custom_loss(tf.zeros_like(fake_output), fake_output)\n",
    "    total_loss = real_loss + fake_loss\n",
    "    return total_loss\n",
    "\n",
    "def custom_generator_loss(fake_output):\n",
    "    return custom_loss(tf.ones_like(fake_output), fake_output)\n",
    "\n",
    "def random_values():\n",
    "  for i in range(20):                        # Run for 20 times\n",
    "    values_list = []                         # List to store all random values for each iteration\n",
    "   \n",
    "    for j in range(20):                      # Run 20 times to get 20 numbers\n",
    "        value = uniform(0.1, 0.9)            # Get a random value from 0.1 to 0.9\n",
    "        values_list.append(value)\n",
    "  return values_list\n",
    "\n",
    "for i in range(20):\n",
    "  values_list = random_values()\n",
    "  real_values_list = random_values()\n",
    "\n",
    "  c_g = custom_generator_loss(values_list)\n",
    "  print(\"c_g:\", c_g.numpy(), end = \", \")\n",
    "  g = generator_loss(values_list)\n",
    "  print(\"g:\", g.numpy(), end = \",     \")\n",
    "\n",
    "  c_d = custom_discriminator_loss(real_values_list , values_list)\n",
    "  print(\"c_d:\", c_d.numpy(), end = \", \")\n",
    "  d = discriminator_loss(real_values_list , values_list)\n",
    "  print(\"d:\", d.numpy())"
   ]
  }
 ],
 "metadata": {
  "colab": {
   "provenance": []
  },
  "kernelspec": {
   "display_name": "Python 3 (ipykernel)",
   "language": "python",
   "name": "python3"
  },
  "language_info": {
   "codemirror_mode": {
    "name": "ipython",
    "version": 3
   },
   "file_extension": ".py",
   "mimetype": "text/x-python",
   "name": "python",
   "nbconvert_exporter": "python",
   "pygments_lexer": "ipython3",
   "version": "3.11.3"
  }
 },
 "nbformat": 4,
 "nbformat_minor": 1
}
