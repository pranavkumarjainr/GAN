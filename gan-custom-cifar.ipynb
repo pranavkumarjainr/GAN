{
 "cells": [
  {
   "cell_type": "code",
   "execution_count": 10,
   "metadata": {
    "_cell_guid": "b1076dfc-b9ad-4769-8c92-a6c4dae69d19",
    "_uuid": "8f2839f25d086af736a60e9eeb907d3b93b6e0e5",
    "execution": {
     "iopub.execute_input": "2023-04-23T12:45:08.028907Z",
     "iopub.status.busy": "2023-04-23T12:45:08.027729Z",
     "iopub.status.idle": "2023-04-23T12:45:08.033446Z",
     "shell.execute_reply": "2023-04-23T12:45:08.032298Z",
     "shell.execute_reply.started": "2023-04-23T12:45:08.028862Z"
    }
   },
   "outputs": [],
   "source": [
    "import numpy as np\n",
    "import tensorflow as tf\n",
    "from tensorflow.keras import layers"
   ]
  },
  {
   "cell_type": "code",
   "execution_count": 11,
   "metadata": {
    "execution": {
     "iopub.execute_input": "2023-04-23T12:45:08.040890Z",
     "iopub.status.busy": "2023-04-23T12:45:08.040238Z",
     "iopub.status.idle": "2023-04-23T12:45:08.048183Z",
     "shell.execute_reply": "2023-04-23T12:45:08.047070Z",
     "shell.execute_reply.started": "2023-04-23T12:45:08.040844Z"
    }
   },
   "outputs": [],
   "source": [
    "# define generator model\n",
    "def make_generator_model():\n",
    "    model = tf.keras.Sequential()\n",
    "    model.add(layers.Dense(256, input_shape=(100,), use_bias=False))\n",
    "    model.add(layers.BatchNormalization())\n",
    "    model.add(layers.LeakyReLU())\n",
    "\n",
    "    model.add(layers.Dense(512, use_bias=False))\n",
    "    model.add(layers.BatchNormalization())\n",
    "    model.add(layers.LeakyReLU())\n",
    "\n",
    "    model.add(layers.Dense(32 * 32 * 3, use_bias=False, activation='tanh'))\n",
    "    model.add(layers.Reshape((32, 32, 3)))\n",
    "\n",
    "    return model"
   ]
  },
  {
   "cell_type": "code",
   "execution_count": 12,
   "metadata": {
    "execution": {
     "iopub.execute_input": "2023-04-23T12:45:08.051090Z",
     "iopub.status.busy": "2023-04-23T12:45:08.050279Z",
     "iopub.status.idle": "2023-04-23T12:45:08.059779Z",
     "shell.execute_reply": "2023-04-23T12:45:08.058593Z",
     "shell.execute_reply.started": "2023-04-23T12:45:08.051051Z"
    }
   },
   "outputs": [],
   "source": [
    "# define discriminator model\n",
    "def make_discriminator_model():\n",
    "    model = tf.keras.Sequential()\n",
    "    model.add(layers.Conv2D(64, (5, 5), strides=(2, 2), padding='same',\n",
    "                                     input_shape=[32, 32, 3]))\n",
    "    model.add(layers.LeakyReLU())\n",
    "    model.add(layers.Dropout(0.3))\n",
    "\n",
    "    model.add(layers.Conv2D(128, (5, 5), strides=(2, 2), padding='same'))\n",
    "    model.add(layers.LeakyReLU())\n",
    "    model.add(layers.Dropout(0.3))\n",
    "\n",
    "    model.add(layers.Flatten())\n",
    "    model.add(layers.Dense(1))\n",
    "\n",
    "    return model"
   ]
  },
  {
   "cell_type": "code",
   "execution_count": 13,
   "metadata": {
    "execution": {
     "iopub.execute_input": "2023-04-23T12:45:08.062667Z",
     "iopub.status.busy": "2023-04-23T12:45:08.062020Z",
     "iopub.status.idle": "2023-04-23T12:45:08.177003Z",
     "shell.execute_reply": "2023-04-23T12:45:08.175966Z",
     "shell.execute_reply.started": "2023-04-23T12:45:08.062632Z"
    }
   },
   "outputs": [],
   "source": [
    "# define generator and discriminator models\n",
    "generator = make_generator_model()\n",
    "discriminator = make_discriminator_model()"
   ]
  },
  {
   "cell_type": "code",
   "execution_count": 14,
   "metadata": {
    "execution": {
     "iopub.execute_input": "2023-04-23T12:45:08.180830Z",
     "iopub.status.busy": "2023-04-23T12:45:08.180555Z",
     "iopub.status.idle": "2023-04-23T12:45:08.188245Z",
     "shell.execute_reply": "2023-04-23T12:45:08.186896Z",
     "shell.execute_reply.started": "2023-04-23T12:45:08.180804Z"
    }
   },
   "outputs": [],
   "source": [
    "# define loss functions\n",
    "#cross_entropy = tf.keras.losses.BinaryCrossentropy(from_logits=True)\n",
    "\n",
    "def cross_entropy(y_true, y_pred_logits, from_logits=True):\n",
    "    if from_logits:\n",
    "        y_pred = tf.sigmoid(y_pred_logits)\n",
    "    else:\n",
    "        y_pred = y_pred_logits\n",
    "    \n",
    "    # Clip values to avoid log(0) error\n",
    "    y_pred = tf.clip_by_value(y_pred, 1e-7, 1 - 1e-7)\n",
    "    \n",
    "    # Calculate binary crossentropy\n",
    "    bce = -tf.reduce_mean(y_true * tf.math.log(tf.reduce_mean(y_pred)) + (1 - y_true) * tf.math.log(tf.reduce_mean(1 - y_pred)))\n",
    "    \n",
    "    return bce\n",
    "\n",
    "def discriminator_loss(real_output, fake_output):\n",
    "    real_loss = cross_entropy(tf.ones_like(real_output), real_output)\n",
    "    fake_loss = cross_entropy(tf.zeros_like(fake_output), fake_output)\n",
    "    total_loss = real_loss + fake_loss\n",
    "    return total_loss\n",
    "\n",
    "def generator_loss(fake_output):\n",
    "    return cross_entropy(tf.ones_like(fake_output), fake_output)"
   ]
  },
  {
   "cell_type": "code",
   "execution_count": 15,
   "metadata": {
    "execution": {
     "iopub.execute_input": "2023-04-23T12:45:08.191591Z",
     "iopub.status.busy": "2023-04-23T12:45:08.190694Z",
     "iopub.status.idle": "2023-04-23T12:45:08.203234Z",
     "shell.execute_reply": "2023-04-23T12:45:08.202231Z",
     "shell.execute_reply.started": "2023-04-23T12:45:08.191515Z"
    }
   },
   "outputs": [],
   "source": [
    "#define optimizers\n",
    "generator_optimizer = tf.keras.optimizers.Adam(1e-4)\n",
    "discriminator_optimizer = tf.keras.optimizers.Adam(1e-4)"
   ]
  },
  {
   "cell_type": "code",
   "execution_count": 16,
   "metadata": {
    "execution": {
     "iopub.execute_input": "2023-04-23T12:45:08.206091Z",
     "iopub.status.busy": "2023-04-23T12:45:08.205514Z",
     "iopub.status.idle": "2023-04-23T12:45:08.258335Z",
     "shell.execute_reply": "2023-04-23T12:45:08.257335Z",
     "shell.execute_reply.started": "2023-04-23T12:45:08.206055Z"
    }
   },
   "outputs": [],
   "source": [
    "# define training loop\n",
    "@tf.function\n",
    "def train_step(images):\n",
    "    noise = tf.random.normal([batch_size, 100])\n",
    "\n",
    "    with tf.GradientTape() as gen_tape, tf.GradientTape() as disc_tape:\n",
    "        generated_images = generator(noise, training=True)\n",
    "\n",
    "        real_output = discriminator(images, training=True)\n",
    "        fake_output = discriminator(generated_images, training=True)\n",
    "\n",
    "        gen_loss = generator_loss(fake_output)\n",
    "        disc_loss = discriminator_loss(real_output, fake_output)\n",
    "\n",
    "    gradients_of_generator = gen_tape.gradient(gen_loss, generator.trainable_variables)\n",
    "    gradients_of_discriminator = disc_tape.gradient(disc_loss, discriminator.trainable_variables)\n",
    "\n",
    "    generator_optimizer.apply_gradients(zip(gradients_of_generator, generator.trainable_variables))\n",
    "    discriminator_optimizer.apply_gradients(zip(gradients_of_discriminator, discriminator.trainable_variables))"
   ]
  },
  {
   "cell_type": "code",
   "execution_count": 17,
   "metadata": {
    "execution": {
     "iopub.execute_input": "2023-04-23T12:45:08.260589Z",
     "iopub.status.busy": "2023-04-23T12:45:08.260024Z",
     "iopub.status.idle": "2023-04-23T12:45:11.265012Z",
     "shell.execute_reply": "2023-04-23T12:45:11.263875Z",
     "shell.execute_reply.started": "2023-04-23T12:45:08.260551Z"
    }
   },
   "outputs": [],
   "source": [
    "# prepare dataset\n",
    "(train_images, _), (_, _) = tf.keras.datasets.cifar10.load_data()\n",
    "train_images = train_images.astype('float32')\n",
    "train_images = (train_images - 127.5) / 127.5  # Normalize the images to [-1, 1]\n",
    "batch_size = 256\n",
    "train_dataset = tf.data.Dataset.from_tensor_slices(train_images).shuffle(50000).batch(batch_size)"
   ]
  },
  {
   "cell_type": "code",
   "execution_count": 18,
   "metadata": {
    "execution": {
     "iopub.execute_input": "2023-04-23T12:45:11.267722Z",
     "iopub.status.busy": "2023-04-23T12:45:11.267332Z",
     "iopub.status.idle": "2023-04-23T12:46:39.744698Z",
     "shell.execute_reply": "2023-04-23T12:46:39.743553Z",
     "shell.execute_reply.started": "2023-04-23T12:45:11.267682Z"
    }
   },
   "outputs": [
    {
     "name": "stderr",
     "output_type": "stream",
     "text": [
      "2023-04-23 12:45:13.645500: E tensorflow/core/grappler/optimizers/meta_optimizer.cc:954] layout failed: INVALID_ARGUMENT: Size of values 0 does not match size of permutation 4 @ fanin shape insequential_3/dropout_2/dropout/SelectV2-2-TransposeNHWCToNCHW-LayoutOptimizer\n",
      "2023-04-23 12:45:23.384575: E tensorflow/core/grappler/optimizers/meta_optimizer.cc:954] layout failed: INVALID_ARGUMENT: Size of values 0 does not match size of permutation 4 @ fanin shape insequential_3/dropout_2/dropout/SelectV2-2-TransposeNHWCToNCHW-LayoutOptimizer\n"
     ]
    },
    {
     "name": "stdout",
     "output_type": "stream",
     "text": [
      "Epoch: 1, Generator Loss: 1.9165880680084229, Discriminator Loss: 0.23474445939064026\n",
      "Epoch: 2, Generator Loss: 3.1865994930267334, Discriminator Loss: 0.5697989463806152\n",
      "Epoch: 3, Generator Loss: 1.7766401767730713, Discriminator Loss: 0.2567160129547119\n",
      "Epoch: 4, Generator Loss: 2.1520726680755615, Discriminator Loss: 0.17120583355426788\n",
      "Epoch: 5, Generator Loss: 1.8998396396636963, Discriminator Loss: 0.33121994137763977\n",
      "Epoch: 6, Generator Loss: 1.655651330947876, Discriminator Loss: 0.6732302904129028\n",
      "Epoch: 7, Generator Loss: 1.4891929626464844, Discriminator Loss: 0.5664693117141724\n",
      "Epoch: 8, Generator Loss: 1.2592154741287231, Discriminator Loss: 0.8274476528167725\n",
      "Epoch: 9, Generator Loss: 0.6781526207923889, Discriminator Loss: 0.8258140683174133\n",
      "Epoch: 10, Generator Loss: 0.8363693952560425, Discriminator Loss: 0.6060590147972107\n"
     ]
    }
   ],
   "source": [
    "# train the GAN\n",
    "epochs = 10\n",
    "for epoch in range(epochs):\n",
    "    for batch in train_dataset:\n",
    "        train_step(batch)\n",
    "\n",
    "        # print the losses every epoch\n",
    "        noise = tf.random.normal([batch_size, 100])\n",
    "\n",
    "        generated_images = generator(noise, training=False)\n",
    "\n",
    "        real_output = discriminator(batch, training=False)\n",
    "        fake_output = discriminator(generated_images, training=False)\n",
    "\n",
    "        gen_loss = generator_loss(fake_output)\n",
    "        disc_loss = discriminator_loss(real_output, fake_output)\n",
    "\n",
    "    print(f\"Epoch: {epoch+1}, Generator Loss: {gen_loss}, Discriminator Loss: {disc_loss}\")"
   ]
  }
 ],
 "metadata": {
  "kernelspec": {
   "display_name": "Python 3 (ipykernel)",
   "language": "python",
   "name": "python3"
  },
  "language_info": {
   "codemirror_mode": {
    "name": "ipython",
    "version": 3
   },
   "file_extension": ".py",
   "mimetype": "text/x-python",
   "name": "python",
   "nbconvert_exporter": "python",
   "pygments_lexer": "ipython3",
   "version": "3.11.3"
  }
 },
 "nbformat": 4,
 "nbformat_minor": 4
}
