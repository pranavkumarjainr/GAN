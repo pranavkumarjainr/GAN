{
 "cells": [
  {
   "cell_type": "code",
   "execution_count": 1,
   "metadata": {
    "execution": {
     "iopub.execute_input": "2023-04-23T12:02:40.707171Z",
     "iopub.status.busy": "2023-04-23T12:02:40.706696Z",
     "iopub.status.idle": "2023-04-23T12:02:50.927115Z",
     "shell.execute_reply": "2023-04-23T12:02:50.925526Z",
     "shell.execute_reply.started": "2023-04-23T12:02:40.707126Z"
    }
   },
   "outputs": [],
   "source": [
    "import numpy as np\n",
    "import tensorflow as tf\n",
    "from tensorflow.keras import layers"
   ]
  },
  {
   "cell_type": "code",
   "execution_count": 2,
   "metadata": {
    "execution": {
     "iopub.execute_input": "2023-04-23T12:02:50.930483Z",
     "iopub.status.busy": "2023-04-23T12:02:50.929654Z",
     "iopub.status.idle": "2023-04-23T12:02:50.939438Z",
     "shell.execute_reply": "2023-04-23T12:02:50.938378Z",
     "shell.execute_reply.started": "2023-04-23T12:02:50.930440Z"
    }
   },
   "outputs": [],
   "source": [
    "# define generator model\n",
    "def make_generator_model():\n",
    "    model = tf.keras.Sequential()\n",
    "    model.add(layers.Dense(256, input_shape=(100,), use_bias=False))\n",
    "    model.add(layers.BatchNormalization())\n",
    "    model.add(layers.LeakyReLU())\n",
    "\n",
    "    model.add(layers.Dense(512, use_bias=False))\n",
    "    model.add(layers.BatchNormalization())\n",
    "    model.add(layers.LeakyReLU())\n",
    "\n",
    "    model.add(layers.Dense(28*28*1, use_bias=False, activation='tanh'))\n",
    "    model.add(layers.Reshape((28, 28, 1)))\n",
    "\n",
    "    return model"
   ]
  },
  {
   "cell_type": "code",
   "execution_count": 3,
   "metadata": {
    "execution": {
     "iopub.execute_input": "2023-04-23T12:02:50.941919Z",
     "iopub.status.busy": "2023-04-23T12:02:50.940782Z",
     "iopub.status.idle": "2023-04-23T12:02:50.953060Z",
     "shell.execute_reply": "2023-04-23T12:02:50.951308Z",
     "shell.execute_reply.started": "2023-04-23T12:02:50.941878Z"
    }
   },
   "outputs": [],
   "source": [
    "# define discriminator model\n",
    "def make_discriminator_model():\n",
    "    model = tf.keras.Sequential()\n",
    "    model.add(layers.Flatten(input_shape=(28, 28, 1)))\n",
    "    model.add(layers.Dense(512))\n",
    "    model.add(layers.LeakyReLU())\n",
    "    model.add(layers.Dropout(0.3))\n",
    "\n",
    "    model.add(layers.Dense(256))\n",
    "    model.add(layers.LeakyReLU())\n",
    "    model.add(layers.Dropout(0.3))\n",
    "\n",
    "    model.add(layers.Dense(1))\n",
    "\n",
    "    return model"
   ]
  },
  {
   "cell_type": "code",
   "execution_count": 4,
   "metadata": {
    "execution": {
     "iopub.execute_input": "2023-04-23T12:02:50.955471Z",
     "iopub.status.busy": "2023-04-23T12:02:50.955093Z",
     "iopub.status.idle": "2023-04-23T12:02:51.303165Z",
     "shell.execute_reply": "2023-04-23T12:02:51.301768Z",
     "shell.execute_reply.started": "2023-04-23T12:02:50.955435Z"
    }
   },
   "outputs": [],
   "source": [
    "# define generator and discriminator models\n",
    "generator = make_generator_model()\n",
    "discriminator = make_discriminator_model()"
   ]
  },
  {
   "cell_type": "code",
   "execution_count": 5,
   "metadata": {
    "execution": {
     "iopub.execute_input": "2023-04-23T12:02:51.306588Z",
     "iopub.status.busy": "2023-04-23T12:02:51.306185Z",
     "iopub.status.idle": "2023-04-23T12:02:51.316631Z",
     "shell.execute_reply": "2023-04-23T12:02:51.314939Z",
     "shell.execute_reply.started": "2023-04-23T12:02:51.306550Z"
    }
   },
   "outputs": [],
   "source": [
    "# define loss functions\n",
    "#cross_entropy = tf.keras.losses.BinaryCrossentropy(from_logits=True)\n",
    "\n",
    "def cross_entropy(y_true, y_pred_logits, from_logits=True):\n",
    "    if from_logits:\n",
    "        y_pred = tf.sigmoid(y_pred_logits)\n",
    "    else:\n",
    "        y_pred = y_pred_logits\n",
    "    \n",
    "    # Clip values to avoid log(0) error\n",
    "    y_pred = tf.clip_by_value(y_pred, 1e-7, 1 - 1e-7)\n",
    "    \n",
    "    # Calculate binary crossentropy\n",
    "    bce = -tf.reduce_mean(y_true * tf.math.log(tf.reduce_mean(y_pred)) + (1 - y_true) * tf.math.log(tf.reduce_mean(1 - y_pred)))\n",
    "    \n",
    "    return bce\n",
    "\n",
    "def discriminator_loss(real_output, fake_output):\n",
    "    real_loss = cross_entropy(tf.ones_like(real_output), real_output)\n",
    "    fake_loss = cross_entropy(tf.zeros_like(fake_output), fake_output)\n",
    "    total_loss = real_loss + fake_loss\n",
    "    return total_loss\n",
    "\n",
    "def generator_loss(fake_output):\n",
    "    return cross_entropy(tf.ones_like(fake_output), fake_output)"
   ]
  },
  {
   "cell_type": "code",
   "execution_count": 6,
   "metadata": {
    "execution": {
     "iopub.execute_input": "2023-04-23T12:02:51.319451Z",
     "iopub.status.busy": "2023-04-23T12:02:51.318382Z",
     "iopub.status.idle": "2023-04-23T12:02:51.334118Z",
     "shell.execute_reply": "2023-04-23T12:02:51.332550Z",
     "shell.execute_reply.started": "2023-04-23T12:02:51.319389Z"
    }
   },
   "outputs": [],
   "source": [
    "# define optimizers\n",
    "generator_optimizer = tf.keras.optimizers.Adam(1e-4)\n",
    "discriminator_optimizer = tf.keras.optimizers.Adam(1e-4)"
   ]
  },
  {
   "cell_type": "code",
   "execution_count": 7,
   "metadata": {
    "execution": {
     "iopub.execute_input": "2023-04-23T12:02:51.336149Z",
     "iopub.status.busy": "2023-04-23T12:02:51.335599Z",
     "iopub.status.idle": "2023-04-23T12:02:51.347213Z",
     "shell.execute_reply": "2023-04-23T12:02:51.345402Z",
     "shell.execute_reply.started": "2023-04-23T12:02:51.336095Z"
    }
   },
   "outputs": [],
   "source": [
    "# define training loop\n",
    "@tf.function\n",
    "def train_step(images):\n",
    "    noise = tf.random.normal([batch_size, 100])\n",
    "\n",
    "    with tf.GradientTape() as gen_tape, tf.GradientTape() as disc_tape:\n",
    "        generated_images = generator(noise, training=True)\n",
    "\n",
    "        real_output = discriminator(images, training=True)\n",
    "        fake_output = discriminator(generated_images, training=True)\n",
    "\n",
    "        gen_loss = generator_loss(fake_output)\n",
    "        disc_loss = discriminator_loss(real_output, fake_output)\n",
    "\n",
    "    gradients_of_generator = gen_tape.gradient(gen_loss, generator.trainable_variables)\n",
    "    gradients_of_discriminator = disc_tape.gradient(disc_loss, discriminator.trainable_variables)\n",
    "\n",
    "    generator_optimizer.apply_gradients(zip(gradients_of_generator, generator.trainable_variables))\n",
    "    discriminator_optimizer.apply_gradients(zip(gradients_of_discriminator, discriminator.trainable_variables))"
   ]
  },
  {
   "cell_type": "code",
   "execution_count": 8,
   "metadata": {
    "execution": {
     "iopub.execute_input": "2023-04-23T12:02:51.349896Z",
     "iopub.status.busy": "2023-04-23T12:02:51.349490Z",
     "iopub.status.idle": "2023-04-23T12:02:53.080764Z",
     "shell.execute_reply": "2023-04-23T12:02:53.079386Z",
     "shell.execute_reply.started": "2023-04-23T12:02:51.349843Z"
    }
   },
   "outputs": [
    {
     "name": "stdout",
     "output_type": "stream",
     "text": [
      "Downloading data from https://storage.googleapis.com/tensorflow/tf-keras-datasets/mnist.npz\n",
      "11490434/11490434 [==============================] - 1s 0us/step\n"
     ]
    }
   ],
   "source": [
    "# prepare dataset\n",
    "(train_images, _), (_, _) = tf.keras.datasets.mnist.load_data()\n",
    "train_images = train_images.reshape(train_images.shape[0], 28, 28, 1).astype('float32')\n",
    "train_images = (train_images - 127.5) / 127.5  # Normalize the images to [-1, 1]\n",
    "batch_size = 256\n",
    "train_dataset = tf.data.Dataset.from_tensor_slices(train_images).shuffle(60000).batch(batch_size)"
   ]
  },
  {
   "cell_type": "code",
   "execution_count": 9,
   "metadata": {
    "execution": {
     "iopub.execute_input": "2023-04-23T12:02:53.082727Z",
     "iopub.status.busy": "2023-04-23T12:02:53.082349Z",
     "iopub.status.idle": "2023-04-23T12:06:14.019134Z",
     "shell.execute_reply": "2023-04-23T12:06:14.017358Z",
     "shell.execute_reply.started": "2023-04-23T12:02:53.082689Z"
    }
   },
   "outputs": [
    {
     "name": "stdout",
     "output_type": "stream",
     "text": [
      "Epoch: 1, Generator Loss: 1.7377337217330933, Discriminator Loss: 0.19778551161289215\n",
      "Epoch: 2, Generator Loss: 1.476645588874817, Discriminator Loss: 0.30067989230155945\n",
      "Epoch: 3, Generator Loss: 1.7735052108764648, Discriminator Loss: 0.21299239993095398\n",
      "Epoch: 4, Generator Loss: 1.5918253660202026, Discriminator Loss: 0.25212180614471436\n",
      "Epoch: 5, Generator Loss: 1.521927833557129, Discriminator Loss: 0.2720739543437958\n",
      "Epoch: 6, Generator Loss: 2.5206964015960693, Discriminator Loss: 0.22488190233707428\n",
      "Epoch: 7, Generator Loss: 2.2425477504730225, Discriminator Loss: 0.19419774413108826\n",
      "Epoch: 8, Generator Loss: 1.877877116203308, Discriminator Loss: 0.26560136675834656\n",
      "Epoch: 9, Generator Loss: 1.8560560941696167, Discriminator Loss: 0.22315120697021484\n",
      "Epoch: 10, Generator Loss: 2.4574363231658936, Discriminator Loss: 0.16561639308929443\n"
     ]
    }
   ],
   "source": [
    "# train the GAN\n",
    "epochs = 10\n",
    "for epoch in range(epochs):\n",
    "    for batch in train_dataset:\n",
    "        train_step(batch)\n",
    "        \n",
    "        # print the losses every 10 epochs\n",
    "        noise = tf.random.normal([batch_size, 100])\n",
    "\n",
    "        generated_images = generator(noise, training=False)\n",
    "\n",
    "        real_output = discriminator(batch, training=False)\n",
    "        fake_output = discriminator(generated_images, training=False)\n",
    "\n",
    "        gen_loss = generator_loss(fake_output)\n",
    "        disc_loss = discriminator_loss(real_output, fake_output)\n",
    "\n",
    "    print(f\"Epoch: {epoch+1}, Generator Loss: {gen_loss}, Discriminator Loss: {disc_loss}\")"
   ]
  }
 ],
 "metadata": {
  "kernelspec": {
   "display_name": "Python 3 (ipykernel)",
   "language": "python",
   "name": "python3"
  },
  "language_info": {
   "codemirror_mode": {
    "name": "ipython",
    "version": 3
   },
   "file_extension": ".py",
   "mimetype": "text/x-python",
   "name": "python",
   "nbconvert_exporter": "python",
   "pygments_lexer": "ipython3",
   "version": "3.11.3"
  }
 },
 "nbformat": 4,
 "nbformat_minor": 4
}
